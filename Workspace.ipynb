{
  "nbformat": 4,
  "nbformat_minor": 0,
  "metadata": {
    "colab": {
      "provenance": [],
      "authorship_tag": "ABX9TyOaWBFoGtWEv1T9CeSKdtMc",
      "include_colab_link": true
    },
    "kernelspec": {
      "name": "python3",
      "display_name": "Python 3"
    },
    "language_info": {
      "name": "python"
    }
  },
  "cells": [
    {
      "cell_type": "markdown",
      "metadata": {
        "id": "view-in-github",
        "colab_type": "text"
      },
      "source": [
        "<a href=\"https://colab.research.google.com/github/viniciusmaia4509/viniciusmaia4509/blob/main/Workspace.ipynb\" target=\"_parent\"><img src=\"https://colab.research.google.com/assets/colab-badge.svg\" alt=\"Open In Colab\"/></a>"
      ]
    },
    {
      "cell_type": "code",
      "execution_count": 15,
      "metadata": {
        "id": "7Rx_hKPdE74d"
      },
      "outputs": [],
      "source": [
        "dia_21_saldo_inicial = 1000"
      ]
    },
    {
      "cell_type": "code",
      "source": [
        "dia_21_transacao_1 = 293\n",
        "dia_21_transacao_2 = -159.45\n",
        "dia_21_transacao_3 = 464.98\n",
        "dia_21_transacao_4 = -227.72"
      ],
      "metadata": {
        "id": "qJDo2KMxGTkU"
      },
      "execution_count": 16,
      "outputs": []
    },
    {
      "cell_type": "code",
      "source": [
        "dia_21_saldo_final = dia_21_saldo_inicial +  dia_21_transacao_1 +  dia_21_transacao_2 + dia_21_transacao_3 +  dia_21_transacao_4"
      ],
      "metadata": {
        "id": "JooqVLsEG5d4"
      },
      "execution_count": 17,
      "outputs": []
    },
    {
      "cell_type": "code",
      "source": [
        "print(dia_21_saldo_final)"
      ],
      "metadata": {
        "colab": {
          "base_uri": "https://localhost:8080/"
        },
        "id": "gLA_aD4WO3hL",
        "outputId": "8a795cf4-2b19-4af7-a22f-b1c658635866"
      },
      "execution_count": 18,
      "outputs": [
        {
          "output_type": "stream",
          "name": "stdout",
          "text": [
            "1370.81\n"
          ]
        }
      ]
    },
    {
      "cell_type": "markdown",
      "source": [
        "--------------------------------------------------------------------------------"
      ],
      "metadata": {
        "id": "FnMtzLL4RPas"
      }
    },
    {
      "cell_type": "code",
      "source": [
        "web_usuario = ['Vinícius Maia', 'maia.vinicius' , 'maia123' , 'maia.vinicius@gmail.com']\n",
        "\n",
        "print(web_usuario)\n",
        "print(type(web_usuario))\n"
      ],
      "metadata": {
        "colab": {
          "base_uri": "https://localhost:8080/"
        },
        "id": "69D9JtLiRU3P",
        "outputId": "8be967b1-df76-4c74-b0fe-dc7796c09e14"
      },
      "execution_count": 19,
      "outputs": [
        {
          "output_type": "stream",
          "name": "stdout",
          "text": [
            "['Vinícius Maia', 'maia.vinicius', 'maia123', 'maia.vinicius@gmail.com']\n",
            "<class 'list'>\n"
          ]
        }
      ]
    },
    {
      "cell_type": "code",
      "source": [
        "idade = 23\n",
        "saldo_em_conta = dia_21_saldo_final\n",
        "status_conta = True\n",
        "\n",
        "web_usuario = ['Vinícius Maia', idade , 'maia.vinicius' , 'maia123' , 'maia.vinicius@gmail.com', saldo_em_conta , status_conta]\n",
        "\n",
        "print(web_usuario)\n",
        "print(type(web_usuario))\n"
      ],
      "metadata": {
        "colab": {
          "base_uri": "https://localhost:8080/"
        },
        "id": "rmEriT7-Sds_",
        "outputId": "3681e2ea-ca0e-486e-9eb2-632894c9e5c4"
      },
      "execution_count": 21,
      "outputs": [
        {
          "output_type": "stream",
          "name": "stdout",
          "text": [
            "['Vinícius Maia', 23, 'maia.vinicius', 'maia123', 'maia.vinicius@gmail.com', 1370.81, True]\n",
            "<class 'list'>\n"
          ]
        }
      ]
    },
    {
      "cell_type": "markdown",
      "source": [
        "--------------------------------------------------------------------------------"
      ],
      "metadata": {
        "id": "PqN9dDh1aD_X"
      }
    },
    {
      "cell_type": "code",
      "source": [
        "fabricantes_carros_italia = ['Ferrari' , 'Fiat']\n",
        "fabricantes_carros_alemaes = ['BMW' , 'Audi']\n",
        "fabricantes_carros = fabricantes_carros_italia + fabricantes_carros_alemaes\n",
        "\n",
        "print(fabricantes_carros_alemaes)\n",
        "print(fabricantes_carros_italia)\n",
        "print(fabricantes_carros)\n",
        "\n"
      ],
      "metadata": {
        "colab": {
          "base_uri": "https://localhost:8080/"
        },
        "id": "qdXLTjkKaILF",
        "outputId": "45e5b612-8186-49dd-babc-bcdab145b7a8"
      },
      "execution_count": 26,
      "outputs": [
        {
          "output_type": "stream",
          "name": "stdout",
          "text": [
            "['BMW', 'Audi']\n",
            "['Ferrari', 'Fiat']\n",
            "['Ferrari', 'Fiat', 'BMW', 'Audi']\n"
          ]
        }
      ]
    },
    {
      "cell_type": "code",
      "source": [
        "print(f'0: {fabricantes_carros[0]}')\n",
        "print(f'-1 : {fabricantes_carros[-3]}')"
      ],
      "metadata": {
        "colab": {
          "base_uri": "https://localhost:8080/"
        },
        "id": "igXZ1Tj2bzDd",
        "outputId": "885141c4-6e7e-4664-97a4-a973697173b2"
      },
      "execution_count": 29,
      "outputs": [
        {
          "output_type": "stream",
          "name": "stdout",
          "text": [
            "0: Ferrari\n",
            "-1 : Fiat\n"
          ]
        }
      ]
    },
    {
      "cell_type": "code",
      "source": [
        "fabricantes_carros_italia = fabricantes_carros[0:2]\n",
        "fabricantes_carros_alemaes = fabricantes_carros[2:len(fabricantes_carros)]\n",
        "\n",
        "print('Italia: ' + str(fabricantes_carros_italia))\n",
        "print('Alemães: ' + str(fabricantes_carros_alemaes))\n"
      ],
      "metadata": {
        "colab": {
          "base_uri": "https://localhost:8080/"
        },
        "id": "TjTUdAYBciRq",
        "outputId": "696df119-0921-419d-8cca-d1b474cae76c"
      },
      "execution_count": 30,
      "outputs": [
        {
          "output_type": "stream",
          "name": "stdout",
          "text": [
            "Italia: ['Ferrari', 'Fiat']\n",
            "Alemães: ['BMW', 'Audi']\n"
          ]
        }
      ]
    },
    {
      "cell_type": "code",
      "source": [
        "print(fabricantes_carros)\n",
        "\n",
        "fabricantes_carros[2] = 'BMW'\n",
        "print(fabricantes_carros)"
      ],
      "metadata": {
        "colab": {
          "base_uri": "https://localhost:8080/"
        },
        "id": "2hOEFj61eHGH",
        "outputId": "c8afc265-efed-4af9-f736-c32420b98209"
      },
      "execution_count": 34,
      "outputs": [
        {
          "output_type": "stream",
          "name": "stdout",
          "text": [
            "['Ferrari', 'Maserati', 'Maserati', 'Audi']\n",
            "['Ferrari', 'Maserati', 'BMW', 'Audi']\n"
          ]
        }
      ]
    }
  ]
}